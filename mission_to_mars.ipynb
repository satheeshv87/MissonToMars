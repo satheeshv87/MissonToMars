{
 "cells": [
  {
   "cell_type": "code",
   "execution_count": 1,
   "metadata": {},
   "outputs": [],
   "source": [
    "# Dependencies\n",
    "from bs4 import BeautifulSoup as bs\n",
    "import requests\n",
    "from splinter import Browser"
   ]
  },
  {
   "cell_type": "code",
   "execution_count": 2,
   "metadata": {},
   "outputs": [
    {
     "name": "stdout",
     "output_type": "stream",
     "text": [
      " Latest News Title : Small Satellite Mission of the Year\n",
      " Latest News Paragraph : The first interplanetary CubeSats were recognized by the engineering community with the 2019 Small Satellite Mission of the Year award.\n"
     ]
    }
   ],
   "source": [
    "# Get Latest News\n",
    "executable_path = {'executable_path': 'chromedriver'}\n",
    "browser = Browser('chrome', **executable_path, headless=False)\n",
    "\n",
    "browser.visit('https://mars.nasa.gov/news')\n",
    "\n",
    "html = browser.html\n",
    "soup = bs(html, 'html.parser')\n",
    "\n",
    "news_title = soup.find('div', class_=\"content_title\").text\n",
    "news_paragraph = soup.find('div', class_=\"article_teaser_body\").text\n",
    "\n",
    "print(f\" Latest News Title : {news_title}\")\n",
    "print(f\" Latest News Paragraph : {news_paragraph}\")"
   ]
  },
  {
   "cell_type": "code",
   "execution_count": 3,
   "metadata": {},
   "outputs": [
    {
     "name": "stdout",
     "output_type": "stream",
     "text": [
      " Mars Latest Weather Tweet : InSight sol 250 (2019-08-10) low -100.0ºC (-148.1ºF) high -26.2ºC (-15.1ºF)\n",
      "winds from the SSE at 4.4 m/s (9.8 mph) gusting to 16.2 m/s (36.2 mph)\n",
      "pressure at 7.60 hPapic.twitter.com/9sZRRUi3dm\n"
     ]
    }
   ],
   "source": [
    "# Get latest weather from twitter\n",
    "weather_data = requests.get('https://twitter.com/MarsWxReport').text\n",
    "weather_soup = bs(weather_data, 'lxml')\n",
    "weather_tweet = weather_soup.find_all('div', class_=\"js-tweet-text-container\")\n",
    "mars_weather = ''\n",
    "\n",
    "for result in weather_tweet:\n",
    "    try:\n",
    "        tweet = result.find('p', class_=\"TweetTextSize\").text\n",
    "        if 'InSight' in tweet:\n",
    "            mars_weather = tweet\n",
    "            break\n",
    "    except AttributeError as e:\n",
    "        print(e)   \n",
    "\n",
    "print(f\" Mars Latest Weather Tweet : {mars_weather}\")"
   ]
  },
  {
   "cell_type": "code",
   "execution_count": 4,
   "metadata": {},
   "outputs": [
    {
     "name": "stdout",
     "output_type": "stream",
     "text": [
      " JPL Featured Image : https://www.jpl.nasa.gov/spaceimages/images/wallpaper/PIA16567-1920x1200.jpg\n"
     ]
    }
   ],
   "source": [
    "# jpl featured image\n",
    "jpl_data = requests.get('https://www.jpl.nasa.gov/spaceimages/?search=&category=Mars').text\n",
    "jpl_soup = bs(jpl_data, 'lxml')\n",
    "jpl_image_url = jpl_soup.find('div', class_=\"carousel_items\").find('article')\n",
    "jpl_image_url = jpl_image_url['style']\n",
    "jpl_image_url = jpl_image_url.replace('background-image: url(', '').replace(');','').replace('\\'', '')\n",
    "jpl_image_url = 'https://www.jpl.nasa.gov' + jpl_image_url\n",
    "\n",
    "print(f\" JPL Featured Image : {jpl_image_url}\")"
   ]
  },
  {
   "cell_type": "code",
   "execution_count": 5,
   "metadata": {},
   "outputs": [
    {
     "name": "stdout",
     "output_type": "stream",
     "text": [
      "{'Equatorial Diameter': '6,792 km', 'Polar Diameter': '6,752 km', 'Mass': '6.39 × 10^23 kg (0.11 Earths)', 'Moons': '2 (Phobos & Deimos)', 'Orbit Distance': '227,943,824 km (1.38 AU)', 'Orbit Period': '687 days (1.9 years)', 'Surface Temperature ': '-87 to -5 °C', 'First Record': '2nd millennium BC', 'Recorded By': 'Egyptian astronomers'}\n"
     ]
    }
   ],
   "source": [
    "# mars fact\n",
    "mars_fact_url = requests.get('https://space-facts.com/mars/').text\n",
    "mars_soup = bs(mars_fact_url, 'lxml')\n",
    "mars_fact = mars_soup.find('table', class_=\"tablepress-id-p-mars\")\n",
    "\n",
    "mars_fact_final = {}\n",
    "\n",
    "for result in mars_fact.find_all('tr'):\n",
    "    col1 = result.find('td', class_=\"column-1\").text\n",
    "    col2 = result.find('td', class_=\"column-2\").text\n",
    "    col1 = col1.replace(\":\", \"\")\n",
    "    mars_fact_final[col1] =col2\n",
    "    \n",
    "print(mars_fact_final)"
   ]
  },
  {
   "cell_type": "code",
   "execution_count": 6,
   "metadata": {},
   "outputs": [
    {
     "name": "stdout",
     "output_type": "stream",
     "text": [
      "[{'title': 'Cerberus Hemisphere', 'img_url': 'http://astrogeology.usgs.gov/cache/images/cfa62af2557222a02478f1fcd781d445_cerberus_enhanced.tif_full.jpg'}, {'title': 'Schiaparelli Hemisphere', 'img_url': 'http://astrogeology.usgs.gov/cache/images/3cdd1cbf5e0813bba925c9030d13b62e_schiaparelli_enhanced.tif_full.jpg'}, {'title': 'Syrtis Major Hemisphere', 'img_url': 'http://astrogeology.usgs.gov/cache/images/ae209b4e408bb6c3e67b6af38168cf28_syrtis_major_enhanced.tif_full.jpg'}, {'title': 'Valles Marineris Hemisphere', 'img_url': 'http://astrogeology.usgs.gov/cache/images/7cf2da4bf549ed01c17f206327be4db7_valles_marineris_enhanced.tif_full.jpg'}]\n"
     ]
    }
   ],
   "source": [
    "# Hemisphere images\n",
    "hemis_url = requests.get('https://astrogeology.usgs.gov/search/results?q=hemisphere+enhanced&k1=target&v1=Mars').text\n",
    "hemis_soup = bs(hemis_url, 'lxml')\n",
    "hemis_fact = hemis_soup.find_all('div', class_=\"item\")\n",
    "\n",
    "hemisphere_image_urls = []\n",
    "\n",
    "for result in hemis_fact:\n",
    "    hemis_url = 'http://astrogeology.usgs.gov' + result.find('a')['href']\n",
    "    hemis_title = result.find('h3').text\n",
    "    hemis_title = hemis_title.replace(' Enhanced', '')\n",
    "\n",
    "    browser.visit(hemis_url)\n",
    "    img_html = browser.html        \n",
    "    img_url = 'http://astrogeology.usgs.gov' + bs(img_html, 'lxml').find('img', class_='wide-image')['src']\n",
    "\n",
    "    hemis = {}\n",
    "    hemis[\"title\"] = hemis_title\n",
    "    hemis[\"img_url\"] = img_url\n",
    "\n",
    "    hemisphere_image_urls.append(hemis)\n",
    "    \n",
    "print(hemisphere_image_urls)"
   ]
  }
 ],
 "metadata": {
  "kernelspec": {
   "display_name": "Python 3",
   "language": "python",
   "name": "python3"
  },
  "language_info": {
   "codemirror_mode": {
    "name": "ipython",
    "version": 3
   },
   "file_extension": ".py",
   "mimetype": "text/x-python",
   "name": "python",
   "nbconvert_exporter": "python",
   "pygments_lexer": "ipython3",
   "version": "3.7.3"
  }
 },
 "nbformat": 4,
 "nbformat_minor": 2
}
